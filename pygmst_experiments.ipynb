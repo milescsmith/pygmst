{
 "cells": [
  {
   "cell_type": "code",
   "execution_count": 1,
   "metadata": {},
   "outputs": [],
   "source": [
    "nato = \"whisky foxtrot tango\""
   ]
  },
  {
   "cell_type": "code",
   "execution_count": 2,
   "metadata": {},
   "outputs": [],
   "source": [
    "w, t, f = (_ for _ in nato.split())"
   ]
  },
  {
   "cell_type": "code",
   "execution_count": 3,
   "metadata": {},
   "outputs": [
    {
     "data": {
      "text/plain": [
       "'foxtrot'"
      ]
     },
     "execution_count": 3,
     "metadata": {},
     "output_type": "execute_result"
    }
   ],
   "source": [
    "t"
   ]
  },
  {
   "cell_type": "code",
   "execution_count": 4,
   "metadata": {},
   "outputs": [],
   "source": [
    "def cluster(feature_f: str, clusters: int, min_length: int = 10000):  # $gc_out, $bins\n",
    "    gc_hash: Dict[int, int] = dict()\n",
    "    cut_off_points = list()\n",
    "    num_of_seq = 0\n",
    "    total_length = 0\n",
    "    header_to_cod_GC = dict()\n",
    "\n",
    "    with open(feature_f, \"r\") as GC:\n",
    "        # read in probuild output, line by line.  Should be fasta input.\n",
    "        for line in GC:\n",
    "            # if the line is a fasta header in the form of '>(Reference sequence name)\\t(number) (number)\n",
    "            # if (text := re.search(pattern=\"^>(.*?)\\t(\\d+)\\s+(\\d+)\", string=line)): # switch to this?  only support python>=3.8?\n",
    "            text = re.search(pattern=\"^>(.*?)\\t(\\d+)\\s+(\\d+)\", string=line)\n",
    "            if text:\n",
    "                header = text.group(1)  # Reference name\n",
    "                length = int(text.group(2))  # length of sequence?\n",
    "                GC = int(text.group(3))  # must be GC percentage\n",
    "                header_re = re.search(\n",
    "                    pattern=\"^(.*?)\\t\", string=line\n",
    "                )  # Dont get this one - didn't we already extract just this capture group?\n",
    "                if header_re:\n",
    "                    header = header_re.group(1)\n",
    "                header_to_cod_GC[header] = GC\n",
    "                num_of_seq += 1\n",
    "                total_length += length\n",
    "                if GC in gc_hash:\n",
    "                    gc_hash[GC] += length\n",
    "                else:\n",
    "                    gc_hash[GC] = length\n",
    "\n",
    "    sorted_GC = SortedDict(gc_hash)  # sort the gc_hash dictionary by keys\n",
    "    min_GC = sorted_GC.values()[0]\n",
    "    max_GC = sorted_GC.values()[-1]\n",
    "    print(f\"min_GC={min_GC} max_GC={max_GC} total_seq_length={total_length}\\n\")\n",
    "\n",
    "    previous = 0\n",
    "    for key in sorted_GC:\n",
    "        gc_hash[key] += previous\n",
    "\n",
    "        if previous < total_length / 3 and gc_hash[key] >= total_length / 3:\n",
    "            one_third = key\n",
    "        if previous < total_length / 3 * 2 and gc_hash[key] >= total_length / 3 * 2:\n",
    "            two_third = key\n",
    "        if previous < total_length / 2 and gc_hash[key] >= total_length / 2:\n",
    "            one_half = key\n",
    "        previous = gc_hash[key]\n",
    "        # TODO: uncomment when we have logging fixed\n",
    "        # log.info(f\"({one_third})->({gc_hash[one_third]})\\n\")\n",
    "        # log.info(f\"({one_half})->({gc_hash[one_half]})\\n\")\n",
    "        # log.info(f\"({two_third})->({gc_hash[two_third]})\\n\")\n",
    "\n",
    "    if clusters == 0:\n",
    "        # cluster number is not specified by user\n",
    "        # automatically choose cluster number.\n",
    "        if two_third - one_third > 3:\n",
    "            clusters = 3\n",
    "        else:\n",
    "            clusters = 1\n",
    "    if clusters == 3:\n",
    "        if (\n",
    "            (two_third - one_third) < 1\n",
    "            or (max_GC - two_third) < 1\n",
    "            or (one_third - min_GC) < 1\n",
    "        ):\n",
    "            # &Log( \"Total number of sequences is not enough for training in 3 clusters!\\n\" )\n",
    "            clusters = 1\n",
    "        else:\n",
    "            if gc_hash[one_third] > min_length:\n",
    "                cut_off_points.extend((min_GC, one_third, two_third, max_GC))\n",
    "            else:\n",
    "                # &Log( \"Total length of sequences is not enough for training in 3 clusters!\\n\" )\n",
    "                clusters = 2\n",
    "\n",
    "    if clusters == 2:\n",
    "        if gc_hash[one_half] > min_length:\n",
    "            cut_off_points.extend((min_GC, one_half, max_GC))\n",
    "        else:\n",
    "            # &Log( \"Total length of sequences is not enough for training in 2 clusters!\\n\" )\n",
    "            pass\n",
    "\n",
    "    if clusters == 1:\n",
    "        cut_off_points.extend((min_GC, max_GC))\n",
    "    return clusters, cut_off_points, header_to_cod_GC\n"
   ]
  },
  {
   "cell_type": "code",
   "execution_count": null,
   "metadata": {},
   "outputs": [],
   "source": [
    "feature_f: str,\n",
    "clusters: int,\n",
    "min_length: int = 10000"
   ]
  }
 ],
 "metadata": {
  "kernelspec": {
   "display_name": "Python 3",
   "language": "python",
   "name": "python3"
  },
  "language_info": {
   "codemirror_mode": {
    "name": "ipython",
    "version": 3
   },
   "file_extension": ".py",
   "mimetype": "text/x-python",
   "name": "python",
   "nbconvert_exporter": "python",
   "pygments_lexer": "ipython3",
   "version": "3.8.3"
  }
 },
 "nbformat": 4,
 "nbformat_minor": 4
}
